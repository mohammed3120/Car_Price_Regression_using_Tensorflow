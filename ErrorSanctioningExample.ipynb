{
 "cells": [
  {
   "cell_type": "markdown",
   "id": "2c55c084",
   "metadata": {},
   "source": [
    "## Libraries"
   ]
  },
  {
   "cell_type": "code",
   "execution_count": 1,
   "id": "e4e0ff4c",
   "metadata": {},
   "outputs": [],
   "source": [
    "import numpy as np\n",
    "import tensorflow as tf\n",
    "import pandas as pd\n",
    "import seaborn as sns\n",
    "import matplotlib.pyplot as plt\n",
    "from tensorflow.keras.layers import Normalization, Dense, InputLayer\n",
    "from tensorflow.keras.losses import MeanAbsoluteError,MeanSquaredError,Huber\n",
    "from tensorflow.keras.metrics import RootMeanSquaredError"
   ]
  },
  {
   "cell_type": "code",
   "execution_count": 2,
   "id": "dfef253b",
   "metadata": {},
   "outputs": [
    {
     "data": {
      "text/plain": [
       "'2.10.0'"
      ]
     },
     "execution_count": 2,
     "metadata": {},
     "output_type": "execute_result"
    }
   ],
   "source": [
    "tf.__version__"
   ]
  },
  {
   "cell_type": "code",
   "execution_count": 3,
   "id": "a523438e",
   "metadata": {},
   "outputs": [
    {
     "name": "stdout",
     "output_type": "stream",
     "text": [
      "(100, 1)\n",
      "(100, 1)\n"
     ]
    }
   ],
   "source": [
    "# Generate some random data for regression\n",
    "np.random.seed(0)\n",
    "sX = np.random.rand(100, 1)\n",
    "sy = 2 * sX + 1 + 0.1 * np.random.randn(100, 1)\n",
    "print(sX.shape)\n",
    "print(sy.shape)"
   ]
  },
  {
   "cell_type": "code",
   "execution_count": 4,
   "id": "b23a04ee",
   "metadata": {},
   "outputs": [
    {
     "name": "stdout",
     "output_type": "stream",
     "text": [
      "Model: \"sequential\"\n",
      "_________________________________________________________________\n",
      " Layer (type)                Output Shape              Param #   \n",
      "=================================================================\n",
      " dense (Dense)               (None, 1)                 2         \n",
      "                                                                 \n",
      "=================================================================\n",
      "Total params: 2\n",
      "Trainable params: 2\n",
      "Non-trainable params: 0\n",
      "_________________________________________________________________\n"
     ]
    }
   ],
   "source": [
    "# Define the TensorFlow model\n",
    "samll_model = tf.keras.Sequential([\n",
    "    tf.keras.layers.Input(shape=(1,)),  # Input layer\n",
    "    tf.keras.layers.Dense(1)  # Output layer with a single neuron\n",
    "])\n",
    "samll_model.summary()"
   ]
  },
  {
   "cell_type": "code",
   "execution_count": 5,
   "id": "7d2a77c8",
   "metadata": {},
   "outputs": [],
   "source": [
    "# Compile the model with Huber loss\n",
    "huber_loss = tf.keras.losses.Huber(delta=0.1)  # You can adjust the delta parameter as needed\n",
    "samll_model.compile(optimizer='sgd', loss=huber_loss)"
   ]
  },
  {
   "cell_type": "code",
   "execution_count": 6,
   "id": "a037935d",
   "metadata": {},
   "outputs": [
    {
     "name": "stdout",
     "output_type": "stream",
     "text": [
      "Epoch 1/100\n",
      "4/4 [==============================] - 1s 2ms/step - loss: 0.1213\n",
      "Epoch 2/100\n",
      "4/4 [==============================] - 0s 2ms/step - loss: 0.1208\n",
      "Epoch 3/100\n",
      "4/4 [==============================] - 0s 1ms/step - loss: 0.1203\n",
      "Epoch 4/100\n",
      "4/4 [==============================] - 0s 1000us/step - loss: 0.1198\n",
      "Epoch 5/100\n",
      "4/4 [==============================] - 0s 1ms/step - loss: 0.1193\n",
      "Epoch 6/100\n",
      "4/4 [==============================] - 0s 1ms/step - loss: 0.1188\n",
      "Epoch 7/100\n",
      "4/4 [==============================] - 0s 1ms/step - loss: 0.1184\n",
      "Epoch 8/100\n",
      "4/4 [==============================] - 0s 1ms/step - loss: 0.1179\n",
      "Epoch 9/100\n",
      "4/4 [==============================] - 0s 1ms/step - loss: 0.1174\n",
      "Epoch 10/100\n",
      "4/4 [==============================] - 0s 1ms/step - loss: 0.1169\n",
      "Epoch 11/100\n",
      "4/4 [==============================] - 0s 2ms/step - loss: 0.1164\n",
      "Epoch 12/100\n",
      "4/4 [==============================] - 0s 1ms/step - loss: 0.1159\n",
      "Epoch 13/100\n",
      "4/4 [==============================] - 0s 1ms/step - loss: 0.1154\n",
      "Epoch 14/100\n",
      "4/4 [==============================] - 0s 1ms/step - loss: 0.1149\n",
      "Epoch 15/100\n",
      "4/4 [==============================] - 0s 1ms/step - loss: 0.1144\n",
      "Epoch 16/100\n",
      "4/4 [==============================] - 0s 1ms/step - loss: 0.1139\n",
      "Epoch 17/100\n",
      "4/4 [==============================] - 0s 1000us/step - loss: 0.1135\n",
      "Epoch 18/100\n",
      "4/4 [==============================] - 0s 2ms/step - loss: 0.1130\n",
      "Epoch 19/100\n",
      "4/4 [==============================] - 0s 1ms/step - loss: 0.1125\n",
      "Epoch 20/100\n",
      "4/4 [==============================] - 0s 1ms/step - loss: 0.1120\n",
      "Epoch 21/100\n",
      "4/4 [==============================] - 0s 1ms/step - loss: 0.1115\n",
      "Epoch 22/100\n",
      "4/4 [==============================] - 0s 1ms/step - loss: 0.1110\n",
      "Epoch 23/100\n",
      "4/4 [==============================] - 0s 2ms/step - loss: 0.1105\n",
      "Epoch 24/100\n",
      "4/4 [==============================] - 0s 1ms/step - loss: 0.1100\n",
      "Epoch 25/100\n",
      "4/4 [==============================] - 0s 1ms/step - loss: 0.1095\n",
      "Epoch 26/100\n",
      "4/4 [==============================] - 0s 1ms/step - loss: 0.1090\n",
      "Epoch 27/100\n",
      "4/4 [==============================] - 0s 1ms/step - loss: 0.1086\n",
      "Epoch 28/100\n",
      "4/4 [==============================] - 0s 1ms/step - loss: 0.1081\n",
      "Epoch 29/100\n",
      "4/4 [==============================] - 0s 1ms/step - loss: 0.1076\n",
      "Epoch 30/100\n",
      "4/4 [==============================] - 0s 1ms/step - loss: 0.1071\n",
      "Epoch 31/100\n",
      "4/4 [==============================] - 0s 1ms/step - loss: 0.1066\n",
      "Epoch 32/100\n",
      "4/4 [==============================] - 0s 1ms/step - loss: 0.1061\n",
      "Epoch 33/100\n",
      "4/4 [==============================] - 0s 1ms/step - loss: 0.1056\n",
      "Epoch 34/100\n",
      "4/4 [==============================] - 0s 2ms/step - loss: 0.1051\n",
      "Epoch 35/100\n",
      "4/4 [==============================] - 0s 1000us/step - loss: 0.1046\n",
      "Epoch 36/100\n",
      "4/4 [==============================] - 0s 1ms/step - loss: 0.1041\n",
      "Epoch 37/100\n",
      "4/4 [==============================] - 0s 1ms/step - loss: 0.1037\n",
      "Epoch 38/100\n",
      "4/4 [==============================] - 0s 1ms/step - loss: 0.1032\n",
      "Epoch 39/100\n",
      "4/4 [==============================] - 0s 1ms/step - loss: 0.1027\n",
      "Epoch 40/100\n",
      "4/4 [==============================] - 0s 2ms/step - loss: 0.1022\n",
      "Epoch 41/100\n",
      "4/4 [==============================] - 0s 2ms/step - loss: 0.1017\n",
      "Epoch 42/100\n",
      "4/4 [==============================] - 0s 1000us/step - loss: 0.1012\n",
      "Epoch 43/100\n",
      "4/4 [==============================] - 0s 1ms/step - loss: 0.1007\n",
      "Epoch 44/100\n",
      "4/4 [==============================] - 0s 1ms/step - loss: 0.1002\n",
      "Epoch 45/100\n",
      "4/4 [==============================] - 0s 1ms/step - loss: 0.0997\n",
      "Epoch 46/100\n",
      "4/4 [==============================] - 0s 1ms/step - loss: 0.0993\n",
      "Epoch 47/100\n",
      "4/4 [==============================] - 0s 1ms/step - loss: 0.0988\n",
      "Epoch 48/100\n",
      "4/4 [==============================] - 0s 1ms/step - loss: 0.0983\n",
      "Epoch 49/100\n",
      "4/4 [==============================] - 0s 1ms/step - loss: 0.0978\n",
      "Epoch 50/100\n",
      "4/4 [==============================] - 0s 1000us/step - loss: 0.0973\n",
      "Epoch 51/100\n",
      "4/4 [==============================] - 0s 1ms/step - loss: 0.0968\n",
      "Epoch 52/100\n",
      "4/4 [==============================] - 0s 1ms/step - loss: 0.0963\n",
      "Epoch 53/100\n",
      "4/4 [==============================] - 0s 1ms/step - loss: 0.0958\n",
      "Epoch 54/100\n",
      "4/4 [==============================] - 0s 1ms/step - loss: 0.0953\n",
      "Epoch 55/100\n",
      "4/4 [==============================] - 0s 1ms/step - loss: 0.0948\n",
      "Epoch 56/100\n",
      "4/4 [==============================] - 0s 1000us/step - loss: 0.0943\n",
      "Epoch 57/100\n",
      "4/4 [==============================] - 0s 1ms/step - loss: 0.0939\n",
      "Epoch 58/100\n",
      "4/4 [==============================] - 0s 1ms/step - loss: 0.0934\n",
      "Epoch 59/100\n",
      "4/4 [==============================] - 0s 1ms/step - loss: 0.0929\n",
      "Epoch 60/100\n",
      "4/4 [==============================] - 0s 1ms/step - loss: 0.0924\n",
      "Epoch 61/100\n",
      "4/4 [==============================] - 0s 1000us/step - loss: 0.0919\n",
      "Epoch 62/100\n",
      "4/4 [==============================] - 0s 1ms/step - loss: 0.0914\n",
      "Epoch 63/100\n",
      "4/4 [==============================] - 0s 1ms/step - loss: 0.0909\n",
      "Epoch 64/100\n",
      "4/4 [==============================] - 0s 1ms/step - loss: 0.0904\n",
      "Epoch 65/100\n",
      "4/4 [==============================] - 0s 1ms/step - loss: 0.0899\n",
      "Epoch 66/100\n",
      "4/4 [==============================] - 0s 1ms/step - loss: 0.0895\n",
      "Epoch 67/100\n",
      "4/4 [==============================] - 0s 1ms/step - loss: 0.0890\n",
      "Epoch 68/100\n",
      "4/4 [==============================] - 0s 1ms/step - loss: 0.0885\n",
      "Epoch 69/100\n",
      "4/4 [==============================] - 0s 1ms/step - loss: 0.0880\n",
      "Epoch 70/100\n",
      "4/4 [==============================] - 0s 1ms/step - loss: 0.0875\n",
      "Epoch 71/100\n",
      "4/4 [==============================] - 0s 1ms/step - loss: 0.0870\n",
      "Epoch 72/100\n",
      "4/4 [==============================] - 0s 1ms/step - loss: 0.0865\n",
      "Epoch 73/100\n",
      "4/4 [==============================] - 0s 1000us/step - loss: 0.0860\n",
      "Epoch 74/100\n",
      "4/4 [==============================] - 0s 1ms/step - loss: 0.0855\n",
      "Epoch 75/100\n",
      "4/4 [==============================] - 0s 1000us/step - loss: 0.0850\n",
      "Epoch 76/100\n",
      "4/4 [==============================] - 0s 1ms/step - loss: 0.0846\n",
      "Epoch 77/100\n",
      "4/4 [==============================] - 0s 2ms/step - loss: 0.0841\n",
      "Epoch 78/100\n",
      "4/4 [==============================] - 0s 1ms/step - loss: 0.0836\n",
      "Epoch 79/100\n",
      "4/4 [==============================] - 0s 1ms/step - loss: 0.0831\n",
      "Epoch 80/100\n",
      "4/4 [==============================] - 0s 1ms/step - loss: 0.0826\n",
      "Epoch 81/100\n",
      "4/4 [==============================] - 0s 1ms/step - loss: 0.0821\n",
      "Epoch 82/100\n",
      "4/4 [==============================] - 0s 1ms/step - loss: 0.0816\n",
      "Epoch 83/100\n",
      "4/4 [==============================] - 0s 1ms/step - loss: 0.0811\n",
      "Epoch 84/100\n",
      "4/4 [==============================] - 0s 1ms/step - loss: 0.0806\n",
      "Epoch 85/100\n",
      "4/4 [==============================] - 0s 1ms/step - loss: 0.0801\n",
      "Epoch 86/100\n",
      "4/4 [==============================] - 0s 1ms/step - loss: 0.0796\n",
      "Epoch 87/100\n",
      "4/4 [==============================] - 0s 1ms/step - loss: 0.0791\n",
      "Epoch 88/100\n",
      "4/4 [==============================] - 0s 1ms/step - loss: 0.0786\n",
      "Epoch 89/100\n",
      "4/4 [==============================] - 0s 1ms/step - loss: 0.0782\n",
      "Epoch 90/100\n",
      "4/4 [==============================] - 0s 1ms/step - loss: 0.0777\n",
      "Epoch 91/100\n",
      "4/4 [==============================] - 0s 1ms/step - loss: 0.0772\n",
      "Epoch 92/100\n",
      "4/4 [==============================] - 0s 1000us/step - loss: 0.0767\n",
      "Epoch 93/100\n",
      "4/4 [==============================] - 0s 1000us/step - loss: 0.0762\n",
      "Epoch 94/100\n",
      "4/4 [==============================] - 0s 1ms/step - loss: 0.0757\n",
      "Epoch 95/100\n",
      "4/4 [==============================] - 0s 1000us/step - loss: 0.0752\n",
      "Epoch 96/100\n",
      "4/4 [==============================] - 0s 1ms/step - loss: 0.0748\n",
      "Epoch 97/100\n",
      "4/4 [==============================] - 0s 2ms/step - loss: 0.0743\n",
      "Epoch 98/100\n",
      "4/4 [==============================] - 0s 1ms/step - loss: 0.0738\n",
      "Epoch 99/100\n",
      "4/4 [==============================] - 0s 1ms/step - loss: 0.0733\n",
      "Epoch 100/100\n",
      "4/4 [==============================] - 0s 1ms/step - loss: 0.0728\n"
     ]
    }
   ],
   "source": [
    "# Train the model\n",
    "history = samll_model.fit(sX, sy, epochs=100, verbose=1)"
   ]
  },
  {
   "cell_type": "code",
   "execution_count": 7,
   "id": "bb667cd7",
   "metadata": {},
   "outputs": [
    {
     "name": "stdout",
     "output_type": "stream",
     "text": [
      "4/4 [==============================] - 0s 667us/step\n",
      "[[1.3174608]\n",
      " [1.5955946]\n",
      " [1.4076498]\n",
      " [1.3108904]\n",
      " [1.1082306]]\n"
     ]
    }
   ],
   "source": [
    "# Make predictions\n",
    "predictions = samll_model.predict(sX)\n",
    "print(predictions[:5])"
   ]
  },
  {
   "cell_type": "code",
   "execution_count": 8,
   "id": "7b91f565",
   "metadata": {},
   "outputs": [
    {
     "name": "stdout",
     "output_type": "stream",
     "text": [
      "Mean Squared Error: [0.44043297 0.8553784  0.7130845  0.39093947 0.788374   1.0032523\n",
      " 0.7422353  0.76520574 0.65493053 0.691098   0.6717303  0.80258644\n",
      " 0.6517444  1.003043   0.4342256  0.48896703 0.3692858  1.106538\n",
      " 0.7536778  0.8571208  1.2311625  0.5293634  0.38993493 0.90853953\n",
      " 0.27197933 1.0088936  0.36687216 0.6978467  0.92854065 0.7817714\n",
      " 0.7631874  0.8925937  0.44039688 0.95572853 0.33566913 0.77969766\n",
      " 0.80221695 0.61941284 0.9432748  0.8391484  0.57102716 0.4013609\n",
      " 0.7376131  0.5661224  0.561647   0.6483395  0.39131358 0.6843457\n",
      " 0.59410167 0.5778232  0.504376   0.6366613  0.73450357 0.40536645\n",
      " 0.36600938 0.51926386 0.7604942  0.4386708  0.62834597 0.32596746\n",
      " 0.25307187 0.46263772 0.69243866 0.502493   0.8151384  0.66503155\n",
      " 0.60565    0.5529107  0.55277985 0.34268197 0.8349019  0.8559668\n",
      " 0.7160161  0.51253664 0.69362557 0.29868227 0.64883846 0.28245676\n",
      " 0.3392733  0.35425785 0.42848277 0.86294645 0.51265895 0.69903266\n",
      " 0.44018203 0.59530485 0.45125073 0.22692199 0.8242393  0.8775295\n",
      " 0.63467884 0.7241532  0.53137004 0.5929848  0.34997118 0.53041965\n",
      " 0.50723076 0.28906494 0.6832228  0.3639601 ]\n",
      "Mean Absolute Error: [0.6636512  0.9248667  0.8444433  0.62525153 0.8879043  1.0016248\n",
      " 0.8615308  0.8747604  0.8092778  0.831323   0.8195915  0.8958719\n",
      " 0.8073069  1.0015204  0.65895796 0.6992618  0.6076889  1.0519211\n",
      " 0.8681462  0.9258082  1.1095777  0.72757363 0.6244477  0.9531734\n",
      " 0.5215164  1.004437   0.6056997  0.8353722  0.96360815 0.8841784\n",
      " 0.87360597 0.94477177 0.66362405 0.9776137  0.5793696  0.8830049\n",
      " 0.89566565 0.78702784 0.97122335 0.91605043 0.7556634  0.6335305\n",
      " 0.85884404 0.75241107 0.74943113 0.80519533 0.6255506  0.8272519\n",
      " 0.7707799  0.76014686 0.71019435 0.7979106  0.8570318  0.63668394\n",
      " 0.6049871  0.72059965 0.87206316 0.6623223  0.79268277 0.5709356\n",
      " 0.5030625  0.68017477 0.832129   0.70886743 0.90285015 0.81549466\n",
      " 0.7782352  0.7435796  0.74349165 0.58539045 0.91372967 0.9251847\n",
      " 0.84617734 0.71591663 0.8328419  0.5465183  0.8055051  0.5314666\n",
      " 0.5824717  0.59519565 0.65458596 0.9289491  0.71600205 0.83608174\n",
      " 0.66346216 0.77156    0.671752   0.4763633  0.90787625 0.93676543\n",
      " 0.79666734 0.85097194 0.72895133 0.77005506 0.5915836  0.72829914\n",
      " 0.71220136 0.5376476  0.8265729  0.60329103]\n"
     ]
    }
   ],
   "source": [
    "# Evaluate the model\n",
    "mse = tf.keras.losses.mean_squared_error(sy, predictions).numpy()\n",
    "mae = tf.keras.losses.mean_absolute_error(sy, predictions).numpy()\n",
    "print(f\"Mean Squared Error: {mse}\")\n",
    "print(f\"Mean Absolute Error: {mae}\")"
   ]
  },
  {
   "cell_type": "markdown",
   "id": "8a78e663",
   "metadata": {},
   "source": [
    "![Losses](images/losses.jpeg)"
   ]
  },
  {
   "cell_type": "markdown",
   "id": "6e94579e",
   "metadata": {},
   "source": [
    "## Loss"
   ]
  },
  {
   "cell_type": "code",
   "execution_count": 9,
   "id": "4b8cb089",
   "metadata": {},
   "outputs": [
    {
     "data": {
      "image/png": "[encoded data removed]",
      "text/plain": [
       "<Figure size 640x480 with 1 Axes>"
      ]
     },
     "metadata": {},
     "output_type": "display_data"
    }
   ],
   "source": [
    "plt.plot(history.history['loss'])\n",
    "plt.title('Model Loss')\n",
    "plt.ylabel('rmse')\n",
    "plt.xlabel('epoch')\n",
    "plt.legend('train')\n",
    "plt.show()"
   ]
  },
  {
   "cell_type": "code",
   "execution_count": null,
   "id": "706cb024",
   "metadata": {},
   "outputs": [],
   "source": []
  }
 ],
 "metadata": {
  "kernelspec": {
   "display_name": "Python 3 (ipykernel)",
   "language": "python",
   "name": "python3"
  },
  "language_info": {
   "codemirror_mode": {
    "name": "ipython",
    "version": 3
   },
   "file_extension": ".py",
   "mimetype": "text/x-python",
   "name": "python",
   "nbconvert_exporter": "python",
   "pygments_lexer": "ipython3",
   "version": "3.9.16"
  }
 },
 "nbformat": 4,
 "nbformat_minor": 5
}
